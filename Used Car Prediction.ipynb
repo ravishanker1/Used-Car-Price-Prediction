{
 "cells": [
  {
   "cell_type": "markdown",
   "id": "a3504783",
   "metadata": {},
   "source": [
    "<h1 style=\"color:tomato\"><center>★ Used Car Price Prediction ★</center></h1>"
   ]
  },
  {
   "cell_type": "markdown",
   "id": "c7513366",
   "metadata": {},
   "source": [
    "<h1 style=\"color:#88bddb\">Content</h1>"
   ]
  },
  {
   "cell_type": "markdown",
   "id": "b8d21e26",
   "metadata": {},
   "source": [
    "- 1.<a href=\"#1\">Overview</a>\n",
    "- 2.<a href=\"#2\">Importing librarires</a>\n",
    "- 3.<a href=\"#3\">Load Dataset</a>\n",
    "- 4.<a href=\"#4\">Data Understanding</a>\n",
    "- 5.<a href=\"#5\">Data-Preprocessing</a>\n",
    "- 6.<a href=\"#6\">Data Prepartion</a>\n",
    "- 7.<a href=\"#7\">Modelling</a>"
   ]
  },
  {
   "cell_type": "markdown",
   "id": "856d19ed",
   "metadata": {},
   "source": [
    "<a id=\"1\"></a>\n",
    "## 1. Overview"
   ]
  },
  {
   "cell_type": "markdown",
   "id": "8832dd53",
   "metadata": {},
   "source": [
    "In this notebook, a customized Linear Regression model, which uses Gradient Descent method for optimization, is built and trained. Then, this model is put in comparison with an another Linear Regression model built via scikit-learn library (which uses Normal Equation method for optimization), and further comparing with several other Regression models (such as Decision Tree and Random Forest)."
   ]
  },
  {
   "cell_type": "markdown",
   "id": "8113c460",
   "metadata": {},
   "source": [
    "<a id=\"2\"></a>\n",
    "## 2. Importing the librarires"
   ]
  },
  {
   "cell_type": "code",
   "execution_count": 1,
   "id": "67c5a1a5",
   "metadata": {},
   "outputs": [],
   "source": [
    "import numpy as np\n",
    "import pandas as pd\n",
    "import seaborn as sns\n",
    "import matplotlib.pyplot as plt\n",
    "from matplotlib import rcParams\n",
    "from sklearn.preprocessing import LabelEncoder, StandardScaler\n",
    "from sklearn.model_selection import train_test_split\n",
    "from sklearn.linear_model import LinearRegression\n",
    "from sklearn.tree import DecisionTreeRegressor\n",
    "from sklearn.ensemble import RandomForestRegressor\n",
    "from sklearn.metrics import mean_squared_error\n",
    "from sklearn.pipeline import Pipeline\n",
    "\n",
    "rcParams['figure.figsize'] = 12, 7"
   ]
  },
  {
   "cell_type": "markdown",
   "id": "40cc6f8b",
   "metadata": {},
   "source": [
    "<a id=\"3\"></a>\n",
    "## 3.Load_Dataset"
   ]
  },
  {
   "cell_type": "code",
   "execution_count": 2,
   "id": "40110a06",
   "metadata": {},
   "outputs": [
    {
     "data": {
      "text/html": [
       "<div>\n",
       "<style scoped>\n",
       "    .dataframe tbody tr th:only-of-type {\n",
       "        vertical-align: middle;\n",
       "    }\n",
       "\n",
       "    .dataframe tbody tr th {\n",
       "        vertical-align: top;\n",
       "    }\n",
       "\n",
       "    .dataframe thead th {\n",
       "        text-align: right;\n",
       "    }\n",
       "</style>\n",
       "<table border=\"1\" class=\"dataframe\">\n",
       "  <thead>\n",
       "    <tr style=\"text-align: right;\">\n",
       "      <th></th>\n",
       "      <th>Price</th>\n",
       "      <th>Year</th>\n",
       "      <th>Mileage</th>\n",
       "      <th>City</th>\n",
       "      <th>State</th>\n",
       "      <th>Vin</th>\n",
       "      <th>Make</th>\n",
       "      <th>Model</th>\n",
       "    </tr>\n",
       "  </thead>\n",
       "  <tbody>\n",
       "    <tr>\n",
       "      <th>0</th>\n",
       "      <td>8995</td>\n",
       "      <td>2014</td>\n",
       "      <td>35725</td>\n",
       "      <td>El Paso</td>\n",
       "      <td>TX</td>\n",
       "      <td>19VDE2E53EE000083</td>\n",
       "      <td>Acura</td>\n",
       "      <td>ILX6-Speed</td>\n",
       "    </tr>\n",
       "    <tr>\n",
       "      <th>1</th>\n",
       "      <td>10888</td>\n",
       "      <td>2013</td>\n",
       "      <td>19606</td>\n",
       "      <td>Long Island City</td>\n",
       "      <td>NY</td>\n",
       "      <td>19VDE1F52DE012636</td>\n",
       "      <td>Acura</td>\n",
       "      <td>ILX5-Speed</td>\n",
       "    </tr>\n",
       "    <tr>\n",
       "      <th>2</th>\n",
       "      <td>8995</td>\n",
       "      <td>2013</td>\n",
       "      <td>48851</td>\n",
       "      <td>El Paso</td>\n",
       "      <td>TX</td>\n",
       "      <td>19VDE2E52DE000025</td>\n",
       "      <td>Acura</td>\n",
       "      <td>ILX6-Speed</td>\n",
       "    </tr>\n",
       "    <tr>\n",
       "      <th>3</th>\n",
       "      <td>10999</td>\n",
       "      <td>2014</td>\n",
       "      <td>39922</td>\n",
       "      <td>Windsor</td>\n",
       "      <td>CO</td>\n",
       "      <td>19VDE1F71EE003817</td>\n",
       "      <td>Acura</td>\n",
       "      <td>ILX5-Speed</td>\n",
       "    </tr>\n",
       "    <tr>\n",
       "      <th>4</th>\n",
       "      <td>14799</td>\n",
       "      <td>2016</td>\n",
       "      <td>22142</td>\n",
       "      <td>Lindon</td>\n",
       "      <td>UT</td>\n",
       "      <td>19UDE2F32GA001284</td>\n",
       "      <td>Acura</td>\n",
       "      <td>ILXAutomatic</td>\n",
       "    </tr>\n",
       "  </tbody>\n",
       "</table>\n",
       "</div>"
      ],
      "text/plain": [
       "   Price  Year  Mileage              City State                Vin   Make  \\\n",
       "0   8995  2014    35725           El Paso    TX  19VDE2E53EE000083  Acura   \n",
       "1  10888  2013    19606  Long Island City    NY  19VDE1F52DE012636  Acura   \n",
       "2   8995  2013    48851           El Paso    TX  19VDE2E52DE000025  Acura   \n",
       "3  10999  2014    39922           Windsor    CO  19VDE1F71EE003817  Acura   \n",
       "4  14799  2016    22142            Lindon    UT  19UDE2F32GA001284  Acura   \n",
       "\n",
       "          Model  \n",
       "0    ILX6-Speed  \n",
       "1    ILX5-Speed  \n",
       "2    ILX6-Speed  \n",
       "3    ILX5-Speed  \n",
       "4  ILXAutomatic  "
      ]
     },
     "execution_count": 2,
     "metadata": {},
     "output_type": "execute_result"
    }
   ],
   "source": [
    "car_price_df = pd.read_csv('true_car_listings.csv')\n",
    "car_price_df.head()"
   ]
  },
  {
   "cell_type": "markdown",
   "id": "2065d6f9",
   "metadata": {},
   "source": [
    "<a id=\"4\"></a>\n",
    "## 4.Data Understanding"
   ]
  },
  {
   "cell_type": "code",
   "execution_count": 3,
   "id": "533bfbfc",
   "metadata": {},
   "outputs": [
    {
     "data": {
      "text/plain": [
       "(852122, 8)"
      ]
     },
     "execution_count": 3,
     "metadata": {},
     "output_type": "execute_result"
    }
   ],
   "source": [
    "car_price_df.shape"
   ]
  },
  {
   "cell_type": "code",
   "execution_count": 4,
   "id": "56376843",
   "metadata": {},
   "outputs": [
    {
     "data": {
      "text/html": [
       "<div>\n",
       "<style scoped>\n",
       "    .dataframe tbody tr th:only-of-type {\n",
       "        vertical-align: middle;\n",
       "    }\n",
       "\n",
       "    .dataframe tbody tr th {\n",
       "        vertical-align: top;\n",
       "    }\n",
       "\n",
       "    .dataframe thead th {\n",
       "        text-align: right;\n",
       "    }\n",
       "</style>\n",
       "<table border=\"1\" class=\"dataframe\">\n",
       "  <thead>\n",
       "    <tr style=\"text-align: right;\">\n",
       "      <th></th>\n",
       "      <th>Price</th>\n",
       "      <th>Year</th>\n",
       "      <th>Mileage</th>\n",
       "      <th>City</th>\n",
       "      <th>State</th>\n",
       "      <th>Vin</th>\n",
       "      <th>Make</th>\n",
       "      <th>Model</th>\n",
       "    </tr>\n",
       "  </thead>\n",
       "  <tbody>\n",
       "    <tr>\n",
       "      <th>count</th>\n",
       "      <td>852122.000000</td>\n",
       "      <td>852122.000000</td>\n",
       "      <td>8.521220e+05</td>\n",
       "      <td>852122</td>\n",
       "      <td>852122</td>\n",
       "      <td>852122</td>\n",
       "      <td>852122</td>\n",
       "      <td>852122</td>\n",
       "    </tr>\n",
       "    <tr>\n",
       "      <th>unique</th>\n",
       "      <td>NaN</td>\n",
       "      <td>NaN</td>\n",
       "      <td>NaN</td>\n",
       "      <td>2553</td>\n",
       "      <td>59</td>\n",
       "      <td>852075</td>\n",
       "      <td>58</td>\n",
       "      <td>2736</td>\n",
       "    </tr>\n",
       "    <tr>\n",
       "      <th>top</th>\n",
       "      <td>NaN</td>\n",
       "      <td>NaN</td>\n",
       "      <td>NaN</td>\n",
       "      <td>Houston</td>\n",
       "      <td>TX</td>\n",
       "      <td>2G1FA1E37E9293949</td>\n",
       "      <td>Ford</td>\n",
       "      <td>Silverado</td>\n",
       "    </tr>\n",
       "    <tr>\n",
       "      <th>freq</th>\n",
       "      <td>NaN</td>\n",
       "      <td>NaN</td>\n",
       "      <td>NaN</td>\n",
       "      <td>12703</td>\n",
       "      <td>94654</td>\n",
       "      <td>2</td>\n",
       "      <td>110432</td>\n",
       "      <td>24932</td>\n",
       "    </tr>\n",
       "    <tr>\n",
       "      <th>mean</th>\n",
       "      <td>21464.100210</td>\n",
       "      <td>2013.289145</td>\n",
       "      <td>5.250779e+04</td>\n",
       "      <td>NaN</td>\n",
       "      <td>NaN</td>\n",
       "      <td>NaN</td>\n",
       "      <td>NaN</td>\n",
       "      <td>NaN</td>\n",
       "    </tr>\n",
       "    <tr>\n",
       "      <th>std</th>\n",
       "      <td>13596.202241</td>\n",
       "      <td>3.414987</td>\n",
       "      <td>4.198896e+04</td>\n",
       "      <td>NaN</td>\n",
       "      <td>NaN</td>\n",
       "      <td>NaN</td>\n",
       "      <td>NaN</td>\n",
       "      <td>NaN</td>\n",
       "    </tr>\n",
       "    <tr>\n",
       "      <th>min</th>\n",
       "      <td>1500.000000</td>\n",
       "      <td>1997.000000</td>\n",
       "      <td>5.000000e+00</td>\n",
       "      <td>NaN</td>\n",
       "      <td>NaN</td>\n",
       "      <td>NaN</td>\n",
       "      <td>NaN</td>\n",
       "      <td>NaN</td>\n",
       "    </tr>\n",
       "    <tr>\n",
       "      <th>25%</th>\n",
       "      <td>13000.000000</td>\n",
       "      <td>2012.000000</td>\n",
       "      <td>2.383600e+04</td>\n",
       "      <td>NaN</td>\n",
       "      <td>NaN</td>\n",
       "      <td>NaN</td>\n",
       "      <td>NaN</td>\n",
       "      <td>NaN</td>\n",
       "    </tr>\n",
       "    <tr>\n",
       "      <th>50%</th>\n",
       "      <td>18500.000000</td>\n",
       "      <td>2014.000000</td>\n",
       "      <td>4.025600e+04</td>\n",
       "      <td>NaN</td>\n",
       "      <td>NaN</td>\n",
       "      <td>NaN</td>\n",
       "      <td>NaN</td>\n",
       "      <td>NaN</td>\n",
       "    </tr>\n",
       "    <tr>\n",
       "      <th>75%</th>\n",
       "      <td>26995.000000</td>\n",
       "      <td>2016.000000</td>\n",
       "      <td>7.218600e+04</td>\n",
       "      <td>NaN</td>\n",
       "      <td>NaN</td>\n",
       "      <td>NaN</td>\n",
       "      <td>NaN</td>\n",
       "      <td>NaN</td>\n",
       "    </tr>\n",
       "    <tr>\n",
       "      <th>max</th>\n",
       "      <td>499500.000000</td>\n",
       "      <td>2018.000000</td>\n",
       "      <td>2.856196e+06</td>\n",
       "      <td>NaN</td>\n",
       "      <td>NaN</td>\n",
       "      <td>NaN</td>\n",
       "      <td>NaN</td>\n",
       "      <td>NaN</td>\n",
       "    </tr>\n",
       "  </tbody>\n",
       "</table>\n",
       "</div>"
      ],
      "text/plain": [
       "                Price           Year       Mileage     City   State  \\\n",
       "count   852122.000000  852122.000000  8.521220e+05   852122  852122   \n",
       "unique            NaN            NaN           NaN     2553      59   \n",
       "top               NaN            NaN           NaN  Houston      TX   \n",
       "freq              NaN            NaN           NaN    12703   94654   \n",
       "mean     21464.100210    2013.289145  5.250779e+04      NaN     NaN   \n",
       "std      13596.202241       3.414987  4.198896e+04      NaN     NaN   \n",
       "min       1500.000000    1997.000000  5.000000e+00      NaN     NaN   \n",
       "25%      13000.000000    2012.000000  2.383600e+04      NaN     NaN   \n",
       "50%      18500.000000    2014.000000  4.025600e+04      NaN     NaN   \n",
       "75%      26995.000000    2016.000000  7.218600e+04      NaN     NaN   \n",
       "max     499500.000000    2018.000000  2.856196e+06      NaN     NaN   \n",
       "\n",
       "                      Vin    Make      Model  \n",
       "count              852122  852122     852122  \n",
       "unique             852075      58       2736  \n",
       "top     2G1FA1E37E9293949    Ford  Silverado  \n",
       "freq                    2  110432      24932  \n",
       "mean                  NaN     NaN        NaN  \n",
       "std                   NaN     NaN        NaN  \n",
       "min                   NaN     NaN        NaN  \n",
       "25%                   NaN     NaN        NaN  \n",
       "50%                   NaN     NaN        NaN  \n",
       "75%                   NaN     NaN        NaN  \n",
       "max                   NaN     NaN        NaN  "
      ]
     },
     "execution_count": 4,
     "metadata": {},
     "output_type": "execute_result"
    }
   ],
   "source": [
    "car_price_df.describe(include=\"all\")"
   ]
  },
  {
   "cell_type": "code",
   "execution_count": 5,
   "id": "be61438d",
   "metadata": {},
   "outputs": [
    {
     "name": "stdout",
     "output_type": "stream",
     "text": [
      "<class 'pandas.core.frame.DataFrame'>\n",
      "RangeIndex: 852122 entries, 0 to 852121\n",
      "Data columns (total 8 columns):\n",
      " #   Column   Non-Null Count   Dtype \n",
      "---  ------   --------------   ----- \n",
      " 0   Price    852122 non-null  int64 \n",
      " 1   Year     852122 non-null  int64 \n",
      " 2   Mileage  852122 non-null  int64 \n",
      " 3   City     852122 non-null  object\n",
      " 4   State    852122 non-null  object\n",
      " 5   Vin      852122 non-null  object\n",
      " 6   Make     852122 non-null  object\n",
      " 7   Model    852122 non-null  object\n",
      "dtypes: int64(3), object(5)\n",
      "memory usage: 52.0+ MB\n"
     ]
    }
   ],
   "source": [
    "car_price_df.info()"
   ]
  },
  {
   "cell_type": "code",
   "execution_count": 6,
   "id": "be086802",
   "metadata": {},
   "outputs": [
    {
     "data": {
      "text/plain": [
       "Index(['Price', 'Year', 'Mileage', 'City', 'State', 'Vin', 'Make', 'Model'], dtype='object')"
      ]
     },
     "execution_count": 6,
     "metadata": {},
     "output_type": "execute_result"
    }
   ],
   "source": [
    "car_price_df.columns"
   ]
  },
  {
   "cell_type": "code",
   "execution_count": 7,
   "id": "bf9cf643",
   "metadata": {},
   "outputs": [
    {
     "data": {
      "text/plain": [
       "['Price', 'Year', 'Mileage', 'City', 'State', 'Vin', 'Make', 'Model']"
      ]
     },
     "execution_count": 7,
     "metadata": {},
     "output_type": "execute_result"
    }
   ],
   "source": [
    "list(car_price_df)"
   ]
  },
  {
   "cell_type": "markdown",
   "id": "5338375d",
   "metadata": {},
   "source": [
    "<a id=\"5\"></a>\n",
    "## 5. Data Preprocessing and Visualization"
   ]
  },
  {
   "cell_type": "markdown",
   "id": "654fd2cb",
   "metadata": {},
   "source": [
    "### Categorical encoding for categorical features:"
   ]
  },
  {
   "cell_type": "code",
   "execution_count": 8,
   "id": "731a377d",
   "metadata": {},
   "outputs": [],
   "source": [
    "categorical_features = ['City', 'State', 'Vin', 'Make', 'Model']\n",
    "\n",
    "for feature in categorical_features:\n",
    "    raw_feature_data = car_price_df[feature]\n",
    "    encoded_feature_data = LabelEncoder().fit_transform(raw_feature_data)\n",
    "    car_price_df[feature] = encoded_feature_data"
   ]
  },
  {
   "cell_type": "code",
   "execution_count": 9,
   "id": "fcf5e195",
   "metadata": {},
   "outputs": [
    {
     "data": {
      "text/html": [
       "<div>\n",
       "<style scoped>\n",
       "    .dataframe tbody tr th:only-of-type {\n",
       "        vertical-align: middle;\n",
       "    }\n",
       "\n",
       "    .dataframe tbody tr th {\n",
       "        vertical-align: top;\n",
       "    }\n",
       "\n",
       "    .dataframe thead th {\n",
       "        text-align: right;\n",
       "    }\n",
       "</style>\n",
       "<table border=\"1\" class=\"dataframe\">\n",
       "  <thead>\n",
       "    <tr style=\"text-align: right;\">\n",
       "      <th></th>\n",
       "      <th>Price</th>\n",
       "      <th>Year</th>\n",
       "      <th>Mileage</th>\n",
       "      <th>City</th>\n",
       "      <th>State</th>\n",
       "      <th>Vin</th>\n",
       "      <th>Make</th>\n",
       "      <th>Model</th>\n",
       "    </tr>\n",
       "  </thead>\n",
       "  <tbody>\n",
       "    <tr>\n",
       "      <th>0</th>\n",
       "      <td>8995</td>\n",
       "      <td>2014</td>\n",
       "      <td>35725</td>\n",
       "      <td>646</td>\n",
       "      <td>49</td>\n",
       "      <td>3972</td>\n",
       "      <td>1</td>\n",
       "      <td>1194</td>\n",
       "    </tr>\n",
       "    <tr>\n",
       "      <th>1</th>\n",
       "      <td>10888</td>\n",
       "      <td>2013</td>\n",
       "      <td>19606</td>\n",
       "      <td>1260</td>\n",
       "      <td>39</td>\n",
       "      <td>3707</td>\n",
       "      <td>1</td>\n",
       "      <td>1193</td>\n",
       "    </tr>\n",
       "    <tr>\n",
       "      <th>2</th>\n",
       "      <td>8995</td>\n",
       "      <td>2013</td>\n",
       "      <td>48851</td>\n",
       "      <td>646</td>\n",
       "      <td>49</td>\n",
       "      <td>3970</td>\n",
       "      <td>1</td>\n",
       "      <td>1194</td>\n",
       "    </tr>\n",
       "    <tr>\n",
       "      <th>3</th>\n",
       "      <td>10999</td>\n",
       "      <td>2014</td>\n",
       "      <td>39922</td>\n",
       "      <td>2490</td>\n",
       "      <td>6</td>\n",
       "      <td>3824</td>\n",
       "      <td>1</td>\n",
       "      <td>1193</td>\n",
       "    </tr>\n",
       "    <tr>\n",
       "      <th>4</th>\n",
       "      <td>14799</td>\n",
       "      <td>2016</td>\n",
       "      <td>22142</td>\n",
       "      <td>1231</td>\n",
       "      <td>50</td>\n",
       "      <td>42</td>\n",
       "      <td>1</td>\n",
       "      <td>1196</td>\n",
       "    </tr>\n",
       "  </tbody>\n",
       "</table>\n",
       "</div>"
      ],
      "text/plain": [
       "   Price  Year  Mileage  City  State   Vin  Make  Model\n",
       "0   8995  2014    35725   646     49  3972     1   1194\n",
       "1  10888  2013    19606  1260     39  3707     1   1193\n",
       "2   8995  2013    48851   646     49  3970     1   1194\n",
       "3  10999  2014    39922  2490      6  3824     1   1193\n",
       "4  14799  2016    22142  1231     50    42     1   1196"
      ]
     },
     "execution_count": 9,
     "metadata": {},
     "output_type": "execute_result"
    }
   ],
   "source": [
    "# Verify data after encoding\n",
    "car_price_df.head()"
   ]
  },
  {
   "cell_type": "code",
   "execution_count": 10,
   "id": "8e161e4d",
   "metadata": {},
   "outputs": [
    {
     "name": "stdout",
     "output_type": "stream",
     "text": [
      "<class 'pandas.core.frame.DataFrame'>\n",
      "RangeIndex: 852122 entries, 0 to 852121\n",
      "Data columns (total 8 columns):\n",
      " #   Column   Non-Null Count   Dtype\n",
      "---  ------   --------------   -----\n",
      " 0   Price    852122 non-null  int64\n",
      " 1   Year     852122 non-null  int64\n",
      " 2   Mileage  852122 non-null  int64\n",
      " 3   City     852122 non-null  int32\n",
      " 4   State    852122 non-null  int32\n",
      " 5   Vin      852122 non-null  int32\n",
      " 6   Make     852122 non-null  int32\n",
      " 7   Model    852122 non-null  int32\n",
      "dtypes: int32(5), int64(3)\n",
      "memory usage: 35.8 MB\n"
     ]
    }
   ],
   "source": [
    "# Verify features' datatypes after encoding\n",
    "car_price_df.info()"
   ]
  },
  {
   "cell_type": "code",
   "execution_count": 11,
   "id": "0affc6dc",
   "metadata": {},
   "outputs": [
    {
     "data": {
      "text/plain": [
       "<AxesSubplot:>"
      ]
     },
     "execution_count": 11,
     "metadata": {},
     "output_type": "execute_result"
    },
    {
     "data": {
      "image/png": "[encoded data removed]",
      "text/plain": [
       "<Figure size 864x504 with 2 Axes>"
      ]
     },
     "metadata": {
      "needs_background": "light"
     },
     "output_type": "display_data"
    }
   ],
   "source": [
    "# Visualize correlations between attributes\n",
    "features_correlation = car_price_df.corr()\n",
    "sns.heatmap(features_correlation, annot=True, vmin=-1, vmax=1, center=0)"
   ]
  },
  {
   "cell_type": "markdown",
   "id": "f69e86cd",
   "metadata": {},
   "source": [
    "**This correlation plot depicts that, only \"Year\" and \"Mileage\" features are two most correlated features with the target variable. Therefore, only those features would be selected for preparation**"
   ]
  },
  {
   "cell_type": "code",
   "execution_count": 12,
   "id": "02b2afbb",
   "metadata": {},
   "outputs": [
    {
     "data": {
      "text/plain": [
       "<AxesSubplot:xlabel='Mileage', ylabel='Price'>"
      ]
     },
     "execution_count": 12,
     "metadata": {},
     "output_type": "execute_result"
    },
    {
     "data": {
      "image/png": "[encoded data removed]",
      "text/plain": [
       "<Figure size 1080x504 with 2 Axes>"
      ]
     },
     "metadata": {
      "needs_background": "light"
     },
     "output_type": "display_data"
    }
   ],
   "source": [
    "# Make scatterplots with data in \"Year\", \"Mileage\" and \"Price\" columns\n",
    "# to show the correlation of each feature with the target variable\n",
    "fig, axes = plt.subplots(1, 2, figsize=(15, 7))\n",
    "sns.scatterplot(x='Year', y='Price', data=car_price_df, ax=axes[0])\n",
    "sns.scatterplot(x='Mileage', y='Price', data=car_price_df, ax=axes[1])"
   ]
  },
  {
   "cell_type": "markdown",
   "id": "d07465bc",
   "metadata": {},
   "source": [
    "<a id=\"6\"></a>\n",
    "## 6.Data Prepartion or Train_Test_split"
   ]
  },
  {
   "cell_type": "code",
   "execution_count": 13,
   "id": "2ac34cc3",
   "metadata": {},
   "outputs": [],
   "source": [
    "X = car_price_df[['Year', 'Mileage']].values\n",
    "y = car_price_df['Price'].values"
   ]
  },
  {
   "cell_type": "code",
   "execution_count": 14,
   "id": "d165f8e3",
   "metadata": {},
   "outputs": [],
   "source": [
    "X_train, X_test, y_train, y_test = train_test_split(X, y, test_size=0.015, random_state=25)"
   ]
  },
  {
   "cell_type": "code",
   "execution_count": 15,
   "id": "a3b5d130",
   "metadata": {},
   "outputs": [],
   "source": [
    "normalizer = StandardScaler().fit(X_train)"
   ]
  },
  {
   "cell_type": "markdown",
   "id": "1b218fe8",
   "metadata": {},
   "source": [
    "<a id=\"7\"></a>\n",
    "## 7.Modelling"
   ]
  },
  {
   "cell_type": "markdown",
   "id": "557d6c05",
   "metadata": {},
   "source": [
    "Information about Linear Regression model & Gradient Descent method:\n",
    "\n",
    "* Hypothesis function: $h_\\theta(x)=\\theta^TX$, $X=[1,x_1,x_2,...,x_n]^T$, $\\theta=[\\theta_0,\\theta_1,\\theta_2,...\\theta_n]^T$\n",
    "\n",
    "* Cost function: $J=\\frac{1}{2m}\\sum_{i=1}^m(\\theta^TX^{(i)}-y^{(i)})^2$\n",
    "* Backpropagation: $\\frac{\\partial J}{\\partial \\theta_a}=\\frac{1}{m}\\sum_{i=1}^m(\\theta^TX^{(i)}-y{(i)})x_a^{(i)}$, $a=0,1,2,...,n$\n",
    "* Gradient Descent: $\\theta_a=\\theta_a-\\alpha\\frac{\\partial J}{\\partial \\theta_a}$, $a=0,1,2,...,n$"
   ]
  },
  {
   "cell_type": "code",
   "execution_count": 16,
   "id": "61fdcebc",
   "metadata": {},
   "outputs": [],
   "source": [
    "class GDLinearRegression:\n",
    "    def __init__(self, learning_rate=0.1, epsilon=1e-7):\n",
    "        self.learning_rate = learning_rate\n",
    "        self.epsilon = epsilon\n",
    "    \n",
    "    def set_learning_rate(self, new_learning_rate):\n",
    "        self.learning_rate = new_learning_rate\n",
    "    \n",
    "    def _initialize_params_n_gradients(self, num_params):\n",
    "        self.theta = np.zeros((num_params,))\n",
    "        self.gradients = np.zeros((num_params,))\n",
    "    \n",
    "    def _get_cost(self):\n",
    "        y_hat = np.dot(self.X, self.theta)\n",
    "        cost = 1/2 * np.mean((y_hat-self.y)**2)\n",
    "        return cost\n",
    "    \n",
    "    def _backpropagation(self):\n",
    "        y_hat = np.dot(self.X, self.theta)\n",
    "        for i in range(len(self.gradients)):\n",
    "            self.gradients[i] = np.mean((y_hat - self.y) * self.X[:, i])\n",
    "    \n",
    "    def _update_params(self):\n",
    "        self.theta -= self.learning_rate * self.gradients\n",
    "    \n",
    "    def fit(self, X, y):\n",
    "        # Initialize X, y\n",
    "        num_data_points = X.shape[0]\n",
    "        num_features = X.shape[1]\n",
    "        self.X = np.c_[np.ones((num_data_points, 1)), X]\n",
    "        self.y = y\n",
    "        num_params = num_features + 1\n",
    "        prev_cost = 0\n",
    "        iteration = 1\n",
    "        # Initialize parameters theta, and gradients\n",
    "        self._initialize_params_n_gradients(num_params)\n",
    "        while True:\n",
    "            # Compute cost\n",
    "            cost = self._get_cost()\n",
    "            # Calculate gradients\n",
    "            self._backpropagation()\n",
    "            # Update parameters\n",
    "            self._update_params()\n",
    "            # Loop until cost difference below epsilon value\n",
    "            if np.abs(cost - prev_cost) < self.epsilon:\n",
    "                break\n",
    "            prev_cost = cost\n",
    "            iteration += 1\n",
    "        # Return the model\n",
    "        return self\n",
    "    \n",
    "    def predict(self, X):\n",
    "        num_data_points = X.shape[0]\n",
    "        X_b = np.c_[np.ones((num_data_points, 1)), X]\n",
    "        return np.dot(X_b, self.theta)"
   ]
  },
  {
   "cell_type": "markdown",
   "id": "ab78f9d9",
   "metadata": {},
   "source": [
    "### Train The Model"
   ]
  },
  {
   "cell_type": "code",
   "execution_count": 17,
   "id": "1ca9a534",
   "metadata": {},
   "outputs": [
    {
     "data": {
      "text/plain": [
       "Pipeline(steps=[('scaler', StandardScaler()),\n",
       "                ('GDLR',\n",
       "                 <__main__.GDLinearRegression object at 0x0000015454EBE0A0>)])"
      ]
     },
     "execution_count": 17,
     "metadata": {},
     "output_type": "execute_result"
    }
   ],
   "source": [
    "gd_lr = Pipeline([('scaler', normalizer),\n",
    "                  ('GDLR', GDLinearRegression())])\n",
    "gd_lr.fit(X_train, y_train)"
   ]
  },
  {
   "cell_type": "markdown",
   "id": "2e897c27",
   "metadata": {},
   "source": [
    "<a id=\"9\"></a>\n",
    "## Evaluate"
   ]
  },
  {
   "cell_type": "markdown",
   "id": "b3787180",
   "metadata": {},
   "source": [
    "In the evaluation phase, RMSE metric is used. RMSE stands for Root Mean Squared Error, is the squared-root value of, the mean of differences between actual values and predictions.\n",
    "\n",
    "The formula of RMSE:\n",
    "\n",
    "$RMSE=\\sqrt{\\frac{1}{m}\\sum_{i=1}^m(y^{(i)}-\\hat{y}^{(i)})^2}$"
   ]
  },
  {
   "cell_type": "code",
   "execution_count": 18,
   "id": "46f89398",
   "metadata": {},
   "outputs": [
    {
     "name": "stdout",
     "output_type": "stream",
     "text": [
      "RMSE: 11622.82243\n"
     ]
    }
   ],
   "source": [
    "y_pred_gd = gd_lr.predict(X_test)\n",
    "print(\"RMSE: %.5f\" % mean_squared_error(y_test, y_pred_gd, squared=False))"
   ]
  },
  {
   "cell_type": "code",
   "execution_count": 19,
   "id": "2b8a4a43",
   "metadata": {},
   "outputs": [
    {
     "name": "stdout",
     "output_type": "stream",
     "text": [
      "Bias: 21464.48111254084\n",
      "Weights: [ 2588.21024046 -3751.84658925]\n"
     ]
    }
   ],
   "source": [
    "# Display model's parameters\n",
    "print('Bias:', gd_lr['GDLR'].theta[0])\n",
    "print('Weights:', gd_lr['GDLR'].theta[1:])"
   ]
  },
  {
   "cell_type": "markdown",
   "id": "982c25ed",
   "metadata": {},
   "source": [
    "** Above We Built the GDLR from the strach **"
   ]
  },
  {
   "cell_type": "markdown",
   "id": "206836fc",
   "metadata": {},
   "source": [
    "<h2 style=\"color:green\"> Compare with Linear Regression model built via scikit-learn library (which uses Normal Equation method)</h2>"
   ]
  },
  {
   "cell_type": "markdown",
   "id": "bc634af1",
   "metadata": {},
   "source": [
    "## Train The Model"
   ]
  },
  {
   "cell_type": "code",
   "execution_count": 20,
   "id": "4280785e",
   "metadata": {},
   "outputs": [
    {
     "data": {
      "text/plain": [
       "Pipeline(steps=[('scaler', StandardScaler()), ('NELR', LinearRegression())])"
      ]
     },
     "execution_count": 20,
     "metadata": {},
     "output_type": "execute_result"
    }
   ],
   "source": [
    "ne_lr = Pipeline([('scaler', normalizer),\n",
    "                  ('NELR', LinearRegression())])\n",
    "ne_lr.fit(X_train, y_train)"
   ]
  },
  {
   "cell_type": "markdown",
   "id": "09646bf9",
   "metadata": {},
   "source": [
    "## Evaluate Model"
   ]
  },
  {
   "cell_type": "code",
   "execution_count": 21,
   "id": "adfeb7d4",
   "metadata": {},
   "outputs": [
    {
     "name": "stdout",
     "output_type": "stream",
     "text": [
      "RMSE: 11622.82247\n"
     ]
    }
   ],
   "source": [
    "y_pred_ne = ne_lr.predict(X_test)\n",
    "print('RMSE: %.5f' % mean_squared_error(y_test, y_pred_ne, squared=False))"
   ]
  },
  {
   "cell_type": "code",
   "execution_count": 22,
   "id": "9a7d5dd2",
   "metadata": {},
   "outputs": [
    {
     "name": "stdout",
     "output_type": "stream",
     "text": [
      "Bias: 21464.481112540874\n",
      "Weights: [ 2588.20736312 -3751.84946659]\n"
     ]
    }
   ],
   "source": [
    "# Display model's parameters\n",
    "print('Bias:', ne_lr['NELR'].intercept_)\n",
    "print('Weights:', ne_lr['NELR'].coef_)"
   ]
  },
  {
   "cell_type": "markdown",
   "id": "2e805aea",
   "metadata": {},
   "source": [
    "<h2 style=\"color:borwn\"> Comparison summary</h2>"
   ]
  },
  {
   "cell_type": "markdown",
   "id": "8c4481b5",
   "metadata": {},
   "source": [
    "### Performance comparison:\n",
    "\n",
    "| Model | RMSE |\n",
    "| :---: | :---: |\n",
    "| Gradient Descent based Linear Regression | 11622.822 |\n",
    "| Normal Equation based Linear Regression | 11622.822 |\n",
    "\n",
    "### Parameters comparison:\n",
    "\n",
    "| Model | $\\theta_0$ | $\\theta_1$ | $\\theta_2$ |\n",
    "| :---: | :---: | :---: | :---: |\n",
    "| Gradient Descent based Linear Regression | 21464.481 | 2588.21 | -3751.847 |\n",
    "| Normal Equation based Linear Regression | 21464.481 | 2588.207 | -3751.849 |\n",
    "\n",
    "**These tables indicate that performances of two models are almost the same. Although there are several differences about RMSE or several parameters between them, these differences are very small.**"
   ]
  },
  {
   "cell_type": "markdown",
   "id": "e24f2536",
   "metadata": {},
   "source": [
    "<h2 style=\"color:green\">BONUS: Compare with several other Regression models (Decision Tree, Random Forest)</h2>"
   ]
  },
  {
   "cell_type": "markdown",
   "id": "b2af9811",
   "metadata": {},
   "source": [
    "**Import class models**"
   ]
  },
  {
   "cell_type": "code",
   "execution_count": 23,
   "id": "d6544714",
   "metadata": {},
   "outputs": [],
   "source": [
    "from sklearn.tree import DecisionTreeRegressor\n",
    "from sklearn.ensemble import RandomForestRegressor"
   ]
  },
  {
   "cell_type": "markdown",
   "id": "5d3e0955",
   "metadata": {},
   "source": [
    "**Train Models**"
   ]
  },
  {
   "cell_type": "code",
   "execution_count": 24,
   "id": "fe825260",
   "metadata": {},
   "outputs": [
    {
     "data": {
      "text/plain": [
       "Pipeline(steps=[('scaler', StandardScaler()),\n",
       "                ('Decision Tree', DecisionTreeRegressor(random_state=25))])"
      ]
     },
     "execution_count": 24,
     "metadata": {},
     "output_type": "execute_result"
    }
   ],
   "source": [
    "# Decision Tree\n",
    "dtr = Pipeline([('scaler', normalizer),\n",
    "                ('Decision Tree', DecisionTreeRegressor(random_state=25))])\n",
    "dtr.fit(X_train, y_train)"
   ]
  },
  {
   "cell_type": "code",
   "execution_count": 25,
   "id": "29c444cc",
   "metadata": {},
   "outputs": [
    {
     "data": {
      "text/plain": [
       "Pipeline(steps=[('scaler', StandardScaler()),\n",
       "                ('Random Forest', RandomForestRegressor(random_state=20))])"
      ]
     },
     "execution_count": 25,
     "metadata": {},
     "output_type": "execute_result"
    }
   ],
   "source": [
    "# Random Forest\n",
    "rfr = Pipeline([('scaler', normalizer),\n",
    "                ('Random Forest', RandomForestRegressor(random_state=20))])\n",
    "rfr.fit(X_train, y_train)"
   ]
  },
  {
   "cell_type": "markdown",
   "id": "8d285263",
   "metadata": {},
   "source": [
    "**Evaluate**"
   ]
  },
  {
   "cell_type": "code",
   "execution_count": 26,
   "id": "68f6ea38",
   "metadata": {},
   "outputs": [
    {
     "name": "stdout",
     "output_type": "stream",
     "text": [
      "RMSE: 14294.230405454233\n"
     ]
    }
   ],
   "source": [
    "# Decision Tree\n",
    "y_pred_dt = dtr.predict(X_test)\n",
    "print('RMSE:', mean_squared_error(y_test, y_pred_dt, squared=False))"
   ]
  },
  {
   "cell_type": "code",
   "execution_count": 27,
   "id": "ca79b984",
   "metadata": {},
   "outputs": [
    {
     "name": "stdout",
     "output_type": "stream",
     "text": [
      "RMSE: 13043.905422626149\n"
     ]
    }
   ],
   "source": [
    "# Random Forest\n",
    "y_pred_rf = rfr.predict(X_test)\n",
    "print('RMSE:', mean_squared_error(y_test, y_pred_rf, squared=False))"
   ]
  },
  {
   "cell_type": "markdown",
   "id": "0b5d3761",
   "metadata": {},
   "source": [
    "<h3 style=\"color:borwn\"> Comparison summary</h3>"
   ]
  },
  {
   "cell_type": "markdown",
   "id": "fc39b77a",
   "metadata": {},
   "source": [
    "### Performance comparison:\n",
    "\n",
    "| Model | RMSE |\n",
    "| :---: | :---: |\n",
    "| Gradient Descent based Linear Regression | 11622.822 |\n",
    "| Normal Equation based Linear Regression | 11622.822 |\n",
    "| Decision Tree | 14294.23 |\n",
    "| Random Forest | 13043.905 |\n",
    "\n",
    "**Tree-based models have worse performances than Linear Regression models.**"
   ]
  }
 ],
 "metadata": {
  "kernelspec": {
   "display_name": "Python 3 (ipykernel)",
   "language": "python",
   "name": "python3"
  },
  "language_info": {
   "codemirror_mode": {
    "name": "ipython",
    "version": 3
   },
   "file_extension": ".py",
   "mimetype": "text/x-python",
   "name": "python",
   "nbconvert_exporter": "python",
   "pygments_lexer": "ipython3",
   "version": "3.9.7"
  }
 },
 "nbformat": 4,
 "nbformat_minor": 5
}
